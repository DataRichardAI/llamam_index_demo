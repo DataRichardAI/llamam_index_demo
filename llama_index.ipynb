{
 "cells": [
  {
   "cell_type": "code",
   "execution_count": 6,
   "metadata": {},
   "outputs": [
    {
     "data": {
      "text/plain": [
       "True"
      ]
     },
     "execution_count": 6,
     "metadata": {},
     "output_type": "execute_result"
    }
   ],
   "source": [
    "import os\n",
    "from dotenv import load_dotenv\n",
    "load_dotenv()"
   ]
  },
  {
   "cell_type": "code",
   "execution_count": 7,
   "metadata": {},
   "outputs": [],
   "source": [
    "os.environ['OPENAI_API_KEY'] = os.getenv(\"OPENAI_API_KEY\")"
   ]
  },
  {
   "cell_type": "markdown",
   "metadata": {},
   "source": [
    "# Recent Update\n",
    "llama_index -> llama_index.core"
   ]
  },
  {
   "cell_type": "code",
   "execution_count": 11,
   "metadata": {},
   "outputs": [],
   "source": [
    "from llama_index.core import VectorStoreIndex,SimpleDirectoryReader\n",
    "documents=SimpleDirectoryReader(\"data\").load_data()"
   ]
  },
  {
   "cell_type": "code",
   "execution_count": 13,
   "metadata": {},
   "outputs": [
    {
     "data": {
      "text/plain": [
       "Document(id_='ea1de9fb-ade6-4d2c-8692-e3450183f776', embedding=None, metadata={'page_label': '1', 'file_name': 'attention.pdf', 'file_path': 'c:\\\\Users\\\\richa\\\\Downloads\\\\activeloop\\\\krishnaik-projects\\\\data\\\\attention.pdf', 'file_type': 'application/pdf', 'file_size': 2215244, 'creation_date': '2024-03-27', 'last_modified_date': '2024-03-27'}, excluded_embed_metadata_keys=['file_name', 'file_type', 'file_size', 'creation_date', 'last_modified_date', 'last_accessed_date'], excluded_llm_metadata_keys=['file_name', 'file_type', 'file_size', 'creation_date', 'last_modified_date', 'last_accessed_date'], relationships={}, text='Provided proper attribution is provided, Google hereby grants permission to\\nreproduce the tables and figures in this paper solely for use in journalistic or\\nscholarly works.\\nAttention Is All You Need\\nAshish Vaswani∗\\nGoogle Brain\\navaswani@google.comNoam Shazeer∗\\nGoogle Brain\\nnoam@google.comNiki Parmar∗\\nGoogle Research\\nnikip@google.comJakob Uszkoreit∗\\nGoogle Research\\nusz@google.com\\nLlion Jones∗\\nGoogle Research\\nllion@google.comAidan N. Gomez∗ †\\nUniversity of Toronto\\naidan@cs.toronto.eduŁukasz Kaiser∗\\nGoogle Brain\\nlukaszkaiser@google.com\\nIllia Polosukhin∗ ‡\\nillia.polosukhin@gmail.com\\nAbstract\\nThe dominant sequence transduction models are based on complex recurrent or\\nconvolutional neural networks that include an encoder and a decoder. The best\\nperforming models also connect the encoder and decoder through an attention\\nmechanism. We propose a new simple network architecture, the Transformer,\\nbased solely on attention mechanisms, dispensing with recurrence and convolutions\\nentirely. Experiments on two machine translation tasks show these models to\\nbe superior in quality while being more parallelizable and requiring significantly\\nless time to train. Our model achieves 28.4 BLEU on the WMT 2014 English-\\nto-German translation task, improving over the existing best results, including\\nensembles, by over 2 BLEU. On the WMT 2014 English-to-French translation task,\\nour model establishes a new single-model state-of-the-art BLEU score of 41.8 after\\ntraining for 3.5 days on eight GPUs, a small fraction of the training costs of the\\nbest models from the literature. We show that the Transformer generalizes well to\\nother tasks by applying it successfully to English constituency parsing both with\\nlarge and limited training data.\\n∗Equal contribution. Listing order is random. Jakob proposed replacing RNNs with self-attention and started\\nthe effort to evaluate this idea. Ashish, with Illia, designed and implemented the first Transformer models and\\nhas been crucially involved in every aspect of this work. Noam proposed scaled dot-product attention, multi-head\\nattention and the parameter-free position representation and became the other person involved in nearly every\\ndetail. Niki designed, implemented, tuned and evaluated countless model variants in our original codebase and\\ntensor2tensor. Llion also experimented with novel model variants, was responsible for our initial codebase, and\\nefficient inference and visualizations. Lukasz and Aidan spent countless long days designing various parts of and\\nimplementing tensor2tensor, replacing our earlier codebase, greatly improving results and massively accelerating\\nour research.\\n†Work performed while at Google Brain.\\n‡Work performed while at Google Research.\\n31st Conference on Neural Information Processing Systems (NIPS 2017), Long Beach, CA, USA.arXiv:1706.03762v7  [cs.CL]  2 Aug 2023', start_char_idx=None, end_char_idx=None, text_template='{metadata_str}\\n\\n{content}', metadata_template='{key}: {value}', metadata_seperator='\\n')"
      ]
     },
     "execution_count": 13,
     "metadata": {},
     "output_type": "execute_result"
    }
   ],
   "source": [
    "documents[0]"
   ]
  },
  {
   "cell_type": "code",
   "execution_count": 14,
   "metadata": {},
   "outputs": [
    {
     "name": "stderr",
     "output_type": "stream",
     "text": [
      "c:\\Users\\richa\\anaconda3\\envs\\richie\\lib\\site-packages\\tqdm\\auto.py:21: TqdmWarning: IProgress not found. Please update jupyter and ipywidgets. See https://ipywidgets.readthedocs.io/en/stable/user_install.html\n",
      "  from .autonotebook import tqdm as notebook_tqdm\n",
      "Parsing nodes: 100%|██████████| 25/25 [00:00<00:00, 118.89it/s]\n",
      "Generating embeddings: 100%|██████████| 37/37 [00:02<00:00, 14.90it/s]\n"
     ]
    }
   ],
   "source": [
    "index=VectorStoreIndex.from_documents(documents, show_progress=True)"
   ]
  },
  {
   "cell_type": "code",
   "execution_count": 15,
   "metadata": {},
   "outputs": [
    {
     "data": {
      "text/plain": [
       "<llama_index.core.indices.vector_store.base.VectorStoreIndex at 0x1d5ec3fe1f0>"
      ]
     },
     "execution_count": 15,
     "metadata": {},
     "output_type": "execute_result"
    }
   ],
   "source": [
    "index"
   ]
  },
  {
   "cell_type": "code",
   "execution_count": 16,
   "metadata": {},
   "outputs": [],
   "source": [
    "query_engine = index.as_query_engine()"
   ]
  },
  {
   "cell_type": "code",
   "execution_count": 17,
   "metadata": {},
   "outputs": [
    {
     "data": {
      "text/plain": [
       "<llama_index.core.query_engine.retriever_query_engine.RetrieverQueryEngine at 0x1d5ec389eb0>"
      ]
     },
     "execution_count": 17,
     "metadata": {},
     "output_type": "execute_result"
    }
   ],
   "source": [
    "query_engine"
   ]
  },
  {
   "cell_type": "code",
   "execution_count": 24,
   "metadata": {},
   "outputs": [],
   "source": [
    "attention_response=query_engine.query(\"What is Transformer?\")"
   ]
  },
  {
   "cell_type": "code",
   "execution_count": 19,
   "metadata": {},
   "outputs": [
    {
     "name": "stdout",
     "output_type": "stream",
     "text": [
      "Transformer is a model architecture that relies entirely on an attention mechanism to draw global dependencies between input and output. It eschews recurrence and allows for significantly more parallelization compared to traditional models based on recurrent layers. The Transformer has been shown to achieve a new state of the art in translation quality and can be trained faster than architectures based on recurrent or convolutional layers.\n"
     ]
    }
   ],
   "source": [
    "print(attention_response)"
   ]
  },
  {
   "cell_type": "code",
   "execution_count": 20,
   "metadata": {},
   "outputs": [],
   "source": [
    "response = query_engine.query(\"What is Yolo?\")"
   ]
  },
  {
   "cell_type": "code",
   "execution_count": 21,
   "metadata": {},
   "outputs": [
    {
     "name": "stdout",
     "output_type": "stream",
     "text": [
      "YOLO is a new approach to object detection that frames the task as a regression problem to spatially separated bounding boxes and associated class probabilities. It utilizes a single neural network to predict bounding boxes and class probabilities directly from full images in one evaluation, optimizing the entire detection pipeline end-to-end for improved performance.\n"
     ]
    }
   ],
   "source": [
    "print(response)"
   ]
  },
  {
   "cell_type": "code",
   "execution_count": 23,
   "metadata": {},
   "outputs": [
    {
     "name": "stdout",
     "output_type": "stream",
     "text": [
      "Final Response: YOLO is a new approach to object detection that frames\n",
      "the task as a regression problem to spatially separated bounding boxes\n",
      "and associated class probabilities. It utilizes a single neural\n",
      "network to predict bounding boxes and class probabilities directly\n",
      "from full images in one evaluation, optimizing the entire detection\n",
      "pipeline end-to-end for improved performance.\n",
      "______________________________________________________________________\n",
      "Source Node 1/2\n",
      "Node ID: c21e7400-0fc8-41be-96d4-26890fba0e1a\n",
      "Similarity: 0.8179419350344531\n",
      "Text: You Only Look Once: Uniﬁed, Real-Time Object Detection Joseph\n",
      "Redmon∗, Santosh Divvala∗†, Ross Girshick¶, Ali Farhadi∗† University\n",
      "of Washington∗, Allen Institute for AI†, Facebook AI Research¶\n",
      "http://pjreddie.com/yolo/ Abstract We present YOLO, a new approach to\n",
      "object detection. Prior work on object detection repurposes classiﬁers\n",
      "to per- form...\n",
      "______________________________________________________________________\n",
      "Source Node 2/2\n",
      "Node ID: 903ac308-63b6-4c60-9fed-da8f55920bf5\n",
      "Similarity: 0.8135146920132351\n",
      "Text: YOLO is refreshingly simple: see Figure 1. A sin- gle\n",
      "convolutional network simultaneously predicts multi- ple bounding\n",
      "boxes and class probabilities for those boxes. YOLO trains on full\n",
      "images and directly optimizes detec- tion performance. This uniﬁed\n",
      "model has several beneﬁts over traditional methods of object\n",
      "detection. First, YOLO is extrem...\n",
      "YOLO is a new approach to object detection that frames the task as a regression problem to spatially separated bounding boxes and associated class probabilities. It utilizes a single neural network to predict bounding boxes and class probabilities directly from full images in one evaluation, optimizing the entire detection pipeline end-to-end for improved performance.\n"
     ]
    }
   ],
   "source": [
    "from llama_index.core.response.pprint_utils import pprint_response\n",
    "pprint_response(response, show_source=True)\n",
    "print(response)"
   ]
  },
  {
   "cell_type": "code",
   "execution_count": null,
   "metadata": {},
   "outputs": [],
   "source": []
  },
  {
   "cell_type": "code",
   "execution_count": 26,
   "metadata": {},
   "outputs": [
    {
     "name": "stdout",
     "output_type": "stream",
     "text": [
      "Final Response: Transformer is a model architecture that relies\n",
      "entirely on an attention mechanism to draw global dependencies between\n",
      "input and output. It eschews recurrence and allows for significantly\n",
      "more parallelization compared to models based on recurrent or\n",
      "convolutional layers. The Transformer can achieve a new state of the\n",
      "art in translation quality after being trained for a relatively short\n",
      "period of time on multiple GPUs.\n",
      "______________________________________________________________________\n",
      "Source Node 1/2\n",
      "Node ID: d11158b2-d731-4c47-8189-5925b8785581\n",
      "Similarity: 0.8070295643921537\n",
      "Text: Table 4: The Transformer generalizes well to English\n",
      "constituency parsing (Results are on Section 23 of WSJ) Parser\n",
      "Training WSJ 23 F1 Vinyals & Kaiser el al. (2014) [37] WSJ only,\n",
      "discriminative 88.3 Petrov et al. (2006) [29] WSJ only, discriminative\n",
      "90.4 Zhu et al. (2013) [40] WSJ only, discriminative 90.4 Dyer et al.\n",
      "(2016) [8] WSJ only, disc...\n",
      "______________________________________________________________________\n",
      "Source Node 2/2\n",
      "Node ID: 1e10d701-ec24-4ba9-a16f-105d8f3837b0\n",
      "Similarity: 0.8014820991129367\n",
      "Text: 1 Introduction Recurrent neural networks, long short-term memory\n",
      "[ 13] and gated recurrent [ 7] neural networks in particular, have\n",
      "been firmly established as state of the art approaches in sequence\n",
      "modeling and transduction problems such as language modeling and\n",
      "machine translation [ 35,2,5]. Numerous efforts have since continued\n",
      "to push the bo...\n",
      "Transformer is a model architecture that relies entirely on an attention mechanism to draw global dependencies between input and output. It eschews recurrence and allows for significantly more parallelization compared to models based on recurrent or convolutional layers. The Transformer can achieve a new state of the art in translation quality after being trained for a relatively short period of time on multiple GPUs.\n"
     ]
    }
   ],
   "source": [
    "pprint_response(attention_response, show_source=True)\n",
    "print(attention_response)"
   ]
  },
  {
   "cell_type": "code",
   "execution_count": 27,
   "metadata": {},
   "outputs": [],
   "source": [
    "from llama_index.core.retrievers import VectorIndexRetriever\n",
    "from llama_index.core.query_engine import RetrieverQueryEngine\n",
    "from llama_index.core.indices.postprocessor import SimilarityPostprocessor\n",
    "\n",
    "retriever = VectorIndexRetriever(index=index, similarity_top_k=4)\n",
    "query_engine = RetrieverQueryEngine(retriever=retriever)"
   ]
  },
  {
   "cell_type": "code",
   "execution_count": 29,
   "metadata": {},
   "outputs": [
    {
     "name": "stdout",
     "output_type": "stream",
     "text": [
      "Final Response: Transformers are a model architecture that relies\n",
      "solely on attention mechanisms, dispensing with recurrence and\n",
      "convolutions entirely. They allow for significantly more\n",
      "parallelization and have been shown to achieve superior quality in\n",
      "tasks like machine translation while requiring less training time\n",
      "compared to models based on recurrent or convolutional neural\n",
      "networks.\n",
      "______________________________________________________________________\n",
      "Source Node 1/4\n",
      "Node ID: d11158b2-d731-4c47-8189-5925b8785581\n",
      "Similarity: 0.7954913518233252\n",
      "Text: Table 4: The Transformer generalizes well to English\n",
      "constituency parsing (Results are on Section 23 of WSJ) Parser\n",
      "Training WSJ 23 F1 Vinyals & Kaiser el al. (2014) [37] WSJ only,\n",
      "discriminative 88.3 Petrov et al. (2006) [29] WSJ only, discriminative\n",
      "90.4 Zhu et al. (2013) [40] WSJ only, discriminative 90.4 Dyer et al.\n",
      "(2016) [8] WSJ only, disc...\n",
      "______________________________________________________________________\n",
      "Source Node 2/4\n",
      "Node ID: 1e10d701-ec24-4ba9-a16f-105d8f3837b0\n",
      "Similarity: 0.7944313582427829\n",
      "Text: 1 Introduction Recurrent neural networks, long short-term memory\n",
      "[ 13] and gated recurrent [ 7] neural networks in particular, have\n",
      "been firmly established as state of the art approaches in sequence\n",
      "modeling and transduction problems such as language modeling and\n",
      "machine translation [ 35,2,5]. Numerous efforts have since continued\n",
      "to push the bo...\n",
      "______________________________________________________________________\n",
      "Source Node 3/4\n",
      "Node ID: 79ac9ba0-8486-4fff-95a9-3906fa56736a\n",
      "Similarity: 0.7884127534906435\n",
      "Text: Provided proper attribution is provided, Google hereby grants\n",
      "permission to reproduce the tables and figures in this paper solely\n",
      "for use in journalistic or scholarly works. Attention Is All You Need\n",
      "Ashish Vaswani∗ Google Brain avaswani@google.comNoam Shazeer∗ Google\n",
      "Brain noam@google.comNiki Parmar∗ Google Research\n",
      "nikip@google.comJakob Uszkor...\n",
      "______________________________________________________________________\n",
      "Source Node 4/4\n",
      "Node ID: d679ad6a-25f6-49a1-b8e7-59f0ce629680\n",
      "Similarity: 0.783320825056394\n",
      "Text: Table 2: The Transformer achieves better BLEU scores than\n",
      "previous state-of-the-art models on the English-to-German and English-\n",
      "to-French newstest2014 tests at a fraction of the training cost.\n",
      "ModelBLEU Training Cost (FLOPs) EN-DE EN-FR EN-DE EN-FR ByteNet [18]\n",
      "23.75 Deep-Att + PosUnk [39] 39.2 1.0·1020 GNMT + RL [38] 24.6 39.92\n",
      "2.3·10191.4·1020...\n"
     ]
    }
   ],
   "source": [
    "retriever_attention_response = query_engine.query(\"What is transformers?\")\n",
    "pprint_response(retriever_attention_response, show_source=True)"
   ]
  },
  {
   "cell_type": "code",
   "execution_count": 33,
   "metadata": {},
   "outputs": [
    {
     "name": "stdout",
     "output_type": "stream",
     "text": [
      "Final Response: Attention is a mechanism used in sequence transduction\n",
      "models that allows the model to focus on specific parts of the input\n",
      "sequence when generating the output sequence. It helps the model to\n",
      "weigh the importance of different input elements during the decoding\n",
      "process.\n",
      "______________________________________________________________________\n",
      "Source Node 1/4\n",
      "Node ID: 79ac9ba0-8486-4fff-95a9-3906fa56736a\n",
      "Similarity: 0.8232823653366745\n",
      "Text: Provided proper attribution is provided, Google hereby grants\n",
      "permission to reproduce the tables and figures in this paper solely\n",
      "for use in journalistic or scholarly works. Attention Is All You Need\n",
      "Ashish Vaswani∗ Google Brain avaswani@google.comNoam Shazeer∗ Google\n",
      "Brain noam@google.comNiki Parmar∗ Google Research\n",
      "nikip@google.comJakob Uszkor...\n",
      "______________________________________________________________________\n",
      "Source Node 2/4\n",
      "Node ID: db5fd8e7-9374-4bd6-ba47-cfd5deaf79c9\n",
      "Similarity: 0.8206927717215188\n",
      "Text: Attention Visualizations Input-Input Layer5 It is in this spirit\n",
      "that a majority of American governments have passed new laws since\n",
      "2009 making the registration or voting process more difficult . <EOS>\n",
      "<pad> <pad> <pad> <pad> <pad> <pad> It is in this spirit that a\n",
      "majority of American governments have passed new laws since 2009\n",
      "making the regis...\n",
      "______________________________________________________________________\n",
      "Source Node 3/4\n",
      "Node ID: d1fa5abb-a0e4-47e4-a4e0-71afd345d93d\n",
      "Similarity: 0.8118184899090075\n",
      "Text: Input-Input Layer5 The Law will never be perfect , but its\n",
      "application should be just - this is what we are missing , in my\n",
      "opinion . <EOS> <pad> The Law will never be perfect , but its\n",
      "application should be just - this is what we are missing , in my\n",
      "opinion . <EOS> <pad> Input-Input Layer5 The Law will never be perfect\n",
      ", but its application sho...\n",
      "______________________________________________________________________\n",
      "Source Node 4/4\n",
      "Node ID: cb7f0e8f-9c08-4d08-8143-fe81ffcf7a12\n",
      "Similarity: 0.804719071394251\n",
      "Text: Input-Input Layer5 The Law will never be perfect , but its\n",
      "application should be just - this is what we are missing , in my\n",
      "opinion . <EOS> <pad> The Law will never be perfect , but its\n",
      "application should be just - this is what we are missing , in my\n",
      "opinion . <EOS> <pad> Input-Input Layer5 The Law will never be perfect\n",
      ", but its application sho...\n"
     ]
    }
   ],
   "source": [
    "postprocessor=SimilarityPostprocessor(similarity_cutoff=0.80)\n",
    "query_engine = RetrieverQueryEngine(retriever=retriever,\n",
    "                                    node_postprocessors=[postprocessor])\n",
    "response2 = query_engine.query(\"What is attention?\")\n",
    "pprint_response(response2, show_source=True)"
   ]
  },
  {
   "cell_type": "markdown",
   "metadata": {},
   "source": [
    "## To store the index generated to local storage instead of storing in memory or to load again later without the need to generate again"
   ]
  },
  {
   "cell_type": "code",
   "execution_count": 34,
   "metadata": {},
   "outputs": [
    {
     "name": "stdout",
     "output_type": "stream",
     "text": [
      "Attention is a mechanism used in sequence transduction models that allows the model to focus on specific parts of the input sequence when generating the output. It helps the model to weigh the importance of different input elements during the decoding process.\n"
     ]
    }
   ],
   "source": [
    "import os.path\n",
    "from llama_index.core import (\n",
    "    VectorStoreIndex,\n",
    "    SimpleDirectoryReader,\n",
    "    StorageContext,\n",
    "    load_index_from_storage\n",
    ")\n",
    "# CHeck if storage exists\n",
    "persist_dir = \"./storage\"\n",
    "if not os.path.exists(persist_dir):\n",
    "    # load documents and create index\n",
    "    documents = SimpleDirectoryReader(\"data\").load_data()\n",
    "    index = VectorStoreIndex.from_documents(documents)\n",
    "    # Store it for later\n",
    "    index.storage_context.persist(persist_dir=persist_dir)\n",
    "else:\n",
    "    storage_context=StorageContext.from_defaults(persist_dir=persist_dir)\n",
    "    index=load_index_from_storage(storage_context)\n",
    "\n",
    "# either way we can now query the index\n",
    "query_engine = index.as_query_engine()\n",
    "response = query_engine.query(\"What is attention?\")\n",
    "print(response)"
   ]
  },
  {
   "cell_type": "code",
   "execution_count": null,
   "metadata": {},
   "outputs": [],
   "source": []
  }
 ],
 "metadata": {
  "kernelspec": {
   "display_name": "Python 3",
   "language": "python",
   "name": "python3"
  },
  "language_info": {
   "codemirror_mode": {
    "name": "ipython",
    "version": 3
   },
   "file_extension": ".py",
   "mimetype": "text/x-python",
   "name": "python",
   "nbconvert_exporter": "python",
   "pygments_lexer": "ipython3",
   "version": "3.9.18"
  }
 },
 "nbformat": 4,
 "nbformat_minor": 2
}
